{
 "cells": [
  {
   "cell_type": "code",
   "execution_count": 32,
   "metadata": {},
   "outputs": [],
   "source": [
    "import json\n",
    "import numpy as np \n",
    "\n",
    "loss_fo_global = \"logs/label_permuted_cifar10_stats/upgd_fo_global/convolutional_network_relu_with_hooks/lr_0.01_beta_utility_0.999_sigma_0.001_weight_decay_0.0/19.json\"\n",
    "loss_kernel = \"logs/label_permuted_cifar10_stats/upgd_kernel/convolutional_network_relu_with_hooks/lr_0.01_beta_utility_0.999_sigma_0.001_weight_decay_0.0/19.json\"\n",
    "loss_scaled = \"logs/label_permuted_cifar10_stats/upgd_scale_normlearner/convolutional_network_relu_with_hooks/lr_0.01_beta_utility_0.999_sigma_0.001_weight_decay_0.0/19.json\"\n",
    "loss_scaled_adaptive = \"logs/label_permuted_cifar10_stats/UPGDScaledAdativeNormNoiseDLearner/convolutional_network_relu_with_hooks/lr_0.01_beta_utility_0.999_sigma_0.001_weight_decay_0.0/19.json\"\n",
    "loss_scaled_grad = \"logs/label_permuted_cifar10_stats/UPGDScaledGradNormNoiseLearner/convolutional_network_relu_with_hooks/lr_0.01_beta_utility_0.999_sigma_0.001_weight_decay_0.0/19.json\"\n",
    "loss_kernel_pruning = \"logs/label_permuted_cifar10_stats/kernel_pruning_upgd/convolutional_network_relu_with_hooks/lr_0.01_beta_utility_0.999_sigma_0.001_weight_decay_0.0/19.json\""
   ]
  },
  {
   "cell_type": "code",
   "execution_count": 33,
   "metadata": {},
   "outputs": [],
   "source": [
    "with open(loss_fo_global) as f:\n",
    "    data_fo_global = json.load(f)\n",
    "\n",
    "with open(loss_kernel) as f:\n",
    "    data_kernel = json.load(f)\n",
    "\n",
    "with open(loss_scaled) as f:\n",
    "    data_scaled = json.load(f)\n",
    "\n",
    "with open(loss_scaled_adaptive) as f:\n",
    "    data_scaled_adaptive = json.load(f)\n",
    "\n",
    "with open(loss_scaled_grad) as f:     \n",
    "    data_scaled_grad = json.load(f)\n",
    "\n",
    "with open(loss_kernel_pruning) as f:\n",
    "    data_kernel_pruning = json.load(f)"
   ]
  },
  {
   "cell_type": "code",
   "execution_count": 35,
   "metadata": {},
   "outputs": [
    {
     "name": "stdout",
     "output_type": "stream",
     "text": [
      "Lipschitz constant for FO global:  0.47321203304635095\n",
      "Lipschitz constant for kernel:  0.22806734702108056\n",
      "Lipschitz constant for scaled:  0.19906243718974292\n",
      "Lipschitz constant for scaled adaptive:  0.2514962514054584\n",
      "Lipschitz constant for scaled grad:  0.20055957693410598\n",
      "Lipschitz constant for kernel pruning:  0.20502659775656662\n"
     ]
    }
   ],
   "source": [
    "from itertools import product\n",
    "\n",
    "def Lipschitz(data):\n",
    "    loss = np.array(data['losses'])\n",
    "    epoch = np.arange(0, len(loss))\n",
    "    return np.max(np.abs((loss[1:] - loss[:-1]) / (epoch[1:] - epoch[:-1])))\n",
    "\n",
    "print(\"Lipschitz constant for FO global: \", Lipschitz(data_fo_global))\n",
    "print(\"Lipschitz constant for kernel: \", Lipschitz(data_kernel))\n",
    "print(\"Lipschitz constant for scaled: \", Lipschitz(data_scaled))\n",
    "print(\"Lipschitz constant for scaled adaptive: \", Lipschitz(data_scaled_adaptive))\n",
    "print(\"Lipschitz constant for scaled grad: \", Lipschitz(data_scaled_grad))\n",
    "print(\"Lipschitz constant for kernel pruning: \", Lipschitz(data_kernel_pruning))"
   ]
  }
 ],
 "metadata": {
  "kernelspec": {
   "display_name": "upgd-dl-project",
   "language": "python",
   "name": "python3"
  },
  "language_info": {
   "codemirror_mode": {
    "name": "ipython",
    "version": 3
   },
   "file_extension": ".py",
   "mimetype": "text/x-python",
   "name": "python",
   "nbconvert_exporter": "python",
   "pygments_lexer": "ipython3",
   "version": "3.8.20"
  }
 },
 "nbformat": 4,
 "nbformat_minor": 2
}
